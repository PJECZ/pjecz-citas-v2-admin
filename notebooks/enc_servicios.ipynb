{
 "cells": [
  {
   "cell_type": "markdown",
   "metadata": {},
   "source": [
    "# Enc Servicios"
   ]
  },
  {
   "cell_type": "code",
   "execution_count": null,
   "metadata": {},
   "outputs": [],
   "source": [
    "# Cargar paquetes\n",
    "from datetime import datetime\n",
    "import pandas as pd\n",
    "from sqlalchemy import and_, or_, text\n",
    "from sqlalchemy.sql import func\n",
    "from lib.database import SessionLocal\n",
    "from tabulate import tabulate\n",
    "db = SessionLocal()"
   ]
  },
  {
   "cell_type": "code",
   "execution_count": null,
   "metadata": {},
   "outputs": [],
   "source": [
    "# Cargar modelos\n",
    "from citas_admin.blueprints.autoridades.models import Autoridad\n",
    "from citas_admin.blueprints.bitacoras.models import Bitacora\n",
    "from citas_admin.blueprints.cit_categorias.models import CitCategoria\n",
    "from citas_admin.blueprints.cit_citas.models import CitCita\n",
    "from citas_admin.blueprints.cit_citas_documentos.models import CitCitaDocumento\n",
    "from citas_admin.blueprints.cit_clientes.models import CitCliente\n",
    "from citas_admin.blueprints.cit_clientes_recuperaciones.models import CitClienteRecuperacion\n",
    "from citas_admin.blueprints.cit_clientes_registros.models import CitClienteRegistro\n",
    "from citas_admin.blueprints.cit_dias_inhabiles.models import CitDiaInhabil\n",
    "from citas_admin.blueprints.cit_horas_bloqueadas.models import CitHoraBloqueada\n",
    "from citas_admin.blueprints.cit_oficinas_servicios.models import CitOficinaServicio\n",
    "from citas_admin.blueprints.cit_servicios.models import CitServicio\n",
    "from citas_admin.blueprints.cit_tramites_servicios.models import CitTramiteServicio\n",
    "from citas_admin.blueprints.cit_pagos.models import CitPago\n",
    "from citas_admin.blueprints.distritos.models import Distrito\n",
    "from citas_admin.blueprints.domicilios.models import Domicilio\n",
    "from citas_admin.blueprints.entradas_salidas.models import EntradaSalida\n",
    "from citas_admin.blueprints.enc_sistemas.models import EncSistema\n",
    "from citas_admin.blueprints.materias.models import Materia\n",
    "from citas_admin.blueprints.modulos.models import Modulo\n",
    "from citas_admin.blueprints.oficinas.models import Oficina\n",
    "from citas_admin.blueprints.permisos.models import Permiso\n",
    "from citas_admin.blueprints.roles.models import Rol\n",
    "from citas_admin.blueprints.usuarios.models import Usuario\n",
    "from citas_admin.blueprints.usuarios_roles.models import UsuarioRol\n",
    "from citas_admin.blueprints.enc_servicios.models import EncServicio"
   ]
  },
  {
   "cell_type": "code",
   "execution_count": null,
   "metadata": {},
   "outputs": [],
   "source": [
    "enc_servicio = db.query(\n",
    "    EncServicio.estado.label(\"estado\"),\n",
    "    func.count(\"*\").label(\"cantidad\"),\n",
    ").group_by(EncServicio.estado)\n",
    "for estado, cantidad in enc_servicio.all():\n",
    "    print(f\"{estado} - {cantidad}\")"
   ]
  },
  {
   "cell_type": "code",
   "execution_count": null,
   "metadata": {},
   "outputs": [],
   "source": [
    "# Muestra el conteo de las respuestas 01\n",
    "enc_servicio_res_01 = db.\\\n",
    "    query(\n",
    "        EncServicio.respuesta_01,\n",
    "        func.count(\"*\").label(\"cantidad\"),\n",
    "    ).\\\n",
    "    filter(EncServicio.estado == \"CONTESTADO\").\\\n",
    "    group_by(EncServicio.respuesta_01).\\\n",
    "    order_by(EncServicio.respuesta_01)\n",
    "    \n",
    "tabla = tabulate(enc_servicio_res_01,[\"Opc\", \"Res 01\"])\n",
    "print(tabla)"
   ]
  },
  {
   "cell_type": "code",
   "execution_count": null,
   "metadata": {},
   "outputs": [],
   "source": [
    "enc_servicio_res_02 = db.\\\n",
    "    query(\n",
    "        EncServicio.respuesta_02,\n",
    "        func.count(\"*\").label(\"cantidad\"),\n",
    "    ).\\\n",
    "    filter(EncServicio.estado == \"CONTESTADO\").\\\n",
    "    group_by(EncServicio.respuesta_02).\\\n",
    "    order_by(EncServicio.respuesta_02)\n",
    "    \n",
    "tabla = tabulate(enc_servicio_res_02,[\"Opc\", \"Res 02\"])\n",
    "print(tabla)"
   ]
  },
  {
   "cell_type": "code",
   "execution_count": null,
   "metadata": {},
   "outputs": [],
   "source": [
    "enc_servicio_res_01 = db.\\\n",
    "    query(\n",
    "        EncServicio.respuesta_02,\n",
    "        func.count(\"*\").label(\"count\"),\n",
    "    ).\\\n",
    "    filter(EncServicio.estado == \"CONTESTADO\").\\\n",
    "    group_by(EncServicio.respuesta_02).\\\n",
    "    subquery()\n",
    "\n",
    "enc_servicio_res = db.\\\n",
    "    query(\n",
    "        text('1'),\n",
    "        enc_servicio_res_01.c.count,\n",
    "    )\n",
    "\n",
    "print(enc_servicio_res.all())\n",
    "\n",
    "#tabla = tabulate(enc_servicio_res,[\"Opc\", \"Res 01\", \"Res 02\"])\n",
    "#print(tabla)"
   ]
  }
 ],
 "metadata": {
  "kernelspec": {
   "display_name": "Python 3.10.5 ('venv': venv)",
   "language": "python",
   "name": "python3"
  },
  "language_info": {
   "codemirror_mode": {
    "name": "ipython",
    "version": 3
   },
   "file_extension": ".py",
   "mimetype": "text/x-python",
   "name": "python",
   "nbconvert_exporter": "python",
   "pygments_lexer": "ipython3",
   "version": "3.10.5"
  },
  "orig_nbformat": 4,
  "vscode": {
   "interpreter": {
    "hash": "46a25ccbe9cdbda8e0690d061456661fe86307f79469e331aa2a0ad8ae70287d"
   }
  }
 },
 "nbformat": 4,
 "nbformat_minor": 2
}
